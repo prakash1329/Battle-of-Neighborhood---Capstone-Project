{
  "nbformat": 4,
  "nbformat_minor": 0,
  "metadata": {
    "colab": {
      "name": "Battle of Neighborhood - Part 1",
      "provenance": [],
      "collapsed_sections": []
    },
    "kernelspec": {
      "name": "python3",
      "display_name": "Python 3"
    }
  },
  "cells": [
    {
      "cell_type": "markdown",
      "metadata": {
        "id": "s4XfUqvxACdJ",
        "colab_type": "text"
      },
      "source": [
        "#**SCENARIO**\n",
        "\n",
        "###***Independent coffee shops pepper the light rail corridor in Midtown & Downtown Phoenix, creating a vibrant, interconnected community. Forget Portland or Seattle – Phoenix stands on its own as a unique coffee destination.***\n",
        "\n"
      ]
    },
    {
      "cell_type": "markdown",
      "metadata": {
        "id": "AR2M3FrKB3gz",
        "colab_type": "text"
      },
      "source": [
        "\n",
        "[Phoenix](https://dtphx.org/) —the fifth most populous city in the United States—has worked hard to forge a balance between urbanism and rurality. It is a metropolis, but one whose main attraction may be the great outdoors nearby. As the city continues to grow, Phoenix has seen generations of people committed to staying here joined by a new influx of young people with a mind to quality food and drink. These newcomers tend to see the city as ripe for innovation, and in synthesis with the city’s appreciation for nature, have shaped a movement known as New Arizonan. Over the last few years, this emerging ethos has churned out its fair share of renowned brewers, chefs, and mixologists. In the midst of aggressively growing food and craft beer scenes, Phoenix coffee, too, has quietly begun to come into its own—feeling now more than ever like it’s on the verge of a boom. Below are a few cafes that have been at the forefront of the culture and which should be watched for new developments."
      ]
    },
    {
      "cell_type": "markdown",
      "metadata": {
        "id": "z0xMeovhBFA8",
        "colab_type": "text"
      },
      "source": [
        "#**BUSINESS PROBLEM**\n",
        "\n",
        "\n",
        "The main idea behind the project is to analyse the Coffee chains in Phoenix and  look out for the areas where opening this new coffee shop would be a grand success.\n"
      ]
    },
    {
      "cell_type": "markdown",
      "metadata": {
        "id": "ejQKqQevK7mo",
        "colab_type": "text"
      },
      "source": [
        "\n",
        "My client is a successful entrepreneur in California. It's only been 2 years since he started his business. But now, in 2020, He has 24 Coffee Shops in big cities of around California like San Jose, San Francisco, Los Angelos and San Diego. Now, he wants to expand his business in other states and make his 25th Coffee Shop a success. He has a particular interest in Arizona. So, he wants to open a new restaurant in Phoenix.\n",
        " "
      ]
    },
    {
      "cell_type": "markdown",
      "metadata": {
        "id": "tVdqDUnVDb3e",
        "colab_type": "text"
      },
      "source": [
        "#**TARGET AUDIENCE**\n",
        "\n",
        "The target market for ***The Coffee Shop Project*** will be the working professionals downtown and the college students at the two local universities. The project is also beneficial to anyone who is looking to start a new Coffee Shop in Phoenix. The audience is quite large and includes the major brands like Starbucks Coffee, The Coffee Bean and Tea Leaf. The project can also benefit some locally owned coffee shops to improve their business prospects. \n"
      ]
    },
    {
      "cell_type": "markdown",
      "metadata": {
        "id": "tU3W0b2FK-4b",
        "colab_type": "text"
      },
      "source": [
        "\n",
        "Our target market of higher-educated people is interested in helping others in a tangible way through their affinity for specialty coffee drinks. According to the [Specialty Coffee Association](https://sca.coffee/), the U.S. market share of specialty coffee has grown 19% in just seven years and is expected to double by the year 2050. We intend to capture the attention of the roughly 18,000 millennials in Bartlesville who would look formore than just a caffeine fix.\n"
      ]
    },
    {
      "cell_type": "markdown",
      "metadata": {
        "id": "EyZA6okzaQHf",
        "colab_type": "text"
      },
      "source": [
        "#**DATA ACQUISITION** \n",
        "\n",
        "- In order to cluster & segment the neighborhoods and explore them, we will essentially need a dataset that contains the boroughs and the neighborhoods that exist in each borough as well as the the latitude and logitude coordinates of each neighborhood.\n",
        "\n",
        "- [List of Neighborhood in Arizona](https://en.wikipedia.org/wiki/List_of_cities_and_towns_in_Arizona) page gives us all the information about the neighborhoods present in Arizona. This page has the Neighborhood, borough , population , area and density of all the neighborhoods present in Phoenix. We can also directly download the information from this [link](https://www.downloadexcelfiles.com/sites/default/files/docs/list-cities-arizona-state-us-166j.csv).\n",
        "\n",
        "- Phoenix, Arizona geographical coordinates data will be utilized as input for the Foursquare API, that will be leveraged to provision venues information for each neighborhood.\n",
        "\n"
      ]
    },
    {
      "cell_type": "code",
      "metadata": {
        "id": "tAsLQz7cMpfJ",
        "colab_type": "code",
        "colab": {}
      },
      "source": [
        ""
      ],
      "execution_count": null,
      "outputs": []
    }
  ]
}